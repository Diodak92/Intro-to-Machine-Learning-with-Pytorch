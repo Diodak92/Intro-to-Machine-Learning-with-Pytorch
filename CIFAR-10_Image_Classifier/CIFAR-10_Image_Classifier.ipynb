{
 "cells": [
  {
   "cell_type": "markdown",
   "metadata": {},
   "source": [
    "# Introduction\n",
    "\n",
    "In this project, you will build a neural network of your own design to evaluate the CIFAR-10 dataset.\n",
    "\n",
    "To meet the requirements for this project, you will need to achieve an accuracy greater than 45%. \n",
    "If you want to beat Detectocorp's algorithm, you'll need to achieve an accuracy greater than 70%. \n",
    "(Beating Detectocorp's algorithm is not a requirement for passing this project, but you're encouraged to try!)\n",
    "\n",
    "Some of the benchmark results on CIFAR-10 include:\n",
    "\n",
    "78.9% Accuracy | [Deep Belief Networks; Krizhevsky, 2010](https://www.cs.toronto.edu/~kriz/conv-cifar10-aug2010.pdf)\n",
    "\n",
    "90.6% Accuracy | [Maxout Networks; Goodfellow et al., 2013](https://arxiv.org/pdf/1302.4389.pdf)\n",
    "\n",
    "96.0% Accuracy | [Wide Residual Networks; Zagoruyko et al., 2016](https://arxiv.org/pdf/1605.07146.pdf)\n",
    "\n",
    "99.0% Accuracy | [GPipe; Huang et al., 2018](https://arxiv.org/pdf/1811.06965.pdf)\n",
    "\n",
    "98.5% Accuracy | [Rethinking Recurrent Neural Networks and other Improvements for ImageClassification; Nguyen et al., 2020](https://arxiv.org/pdf/2007.15161.pdf)\n",
    "\n",
    "Research with this dataset is ongoing. Notably, many of these networks are quite large and quite expensive to train. \n",
    "\n",
    "## Imports"
   ]
  },
  {
   "cell_type": "code",
   "execution_count": 1,
   "metadata": {},
   "outputs": [],
   "source": [
    "## This cell contains the essential imports you will need – DO NOT CHANGE THE CONTENTS! ##\n",
    "import torch\n",
    "import torch.nn as nn\n",
    "import torch.nn.functional as F\n",
    "import torch.optim as optim\n",
    "import torchvision\n",
    "import torchvision.transforms as transforms\n",
    "import matplotlib.pyplot as plt\n",
    "import numpy as np\n",
    "import os"
   ]
  },
  {
   "cell_type": "markdown",
   "metadata": {},
   "source": [
    "## Load the Dataset\n",
    "\n",
    "Specify your transforms as a list first.\n",
    "The transforms module is already loaded as `transforms`.\n",
    "\n",
    "CIFAR-10 is fortunately included in the torchvision module.\n",
    "Then, you can create your dataset using the `CIFAR10` object from `torchvision.datasets` ([the documentation is available here](https://pytorch.org/tutorials/beginner/blitz/cifar10_tutorial.html)).\n",
    "Make sure to specify `download=True`! \n",
    "\n",
    "Once your dataset is created, you'll also need to define a `DataLoader` from the `torch.utils.data` module for both the train and the test set."
   ]
  },
  {
   "cell_type": "code",
   "execution_count": 2,
   "metadata": {},
   "outputs": [
    {
     "name": "stdout",
     "output_type": "stream",
     "text": [
      "Downloading https://www.cs.toronto.edu/~kriz/cifar-10-python.tar.gz to /Users/tomaszkowalski/Documents/LearningNewThings/Intro-to-Machine-Learning-with-Pytorch/CIFAR-10_Image_Classifier/images/cifar-10-python.tar.gz\n"
     ]
    },
    {
     "data": {
      "application/vnd.jupyter.widget-view+json": {
       "model_id": "bccd6cdf1aca4f9784e009489a2af5a3",
       "version_major": 2,
       "version_minor": 0
      },
      "text/plain": [
       "  0%|          | 0/170498071 [00:00<?, ?it/s]"
      ]
     },
     "metadata": {},
     "output_type": "display_data"
    },
    {
     "name": "stdout",
     "output_type": "stream",
     "text": [
      "Extracting /Users/tomaszkowalski/Documents/LearningNewThings/Intro-to-Machine-Learning-with-Pytorch/CIFAR-10_Image_Classifier/images/cifar-10-python.tar.gz to /Users/tomaszkowalski/Documents/LearningNewThings/Intro-to-Machine-Learning-with-Pytorch/CIFAR-10_Image_Classifier/images\n",
      "Files already downloaded and verified\n"
     ]
    }
   ],
   "source": [
    "batch_size = 10\n",
    "color_mean = (0.5, 0.5, 0.5)\n",
    "color_std = (0.5, 0.5, 0.5)\n",
    "\n",
    "download_path = os.path.join(os.getcwd(), 'images')\n",
    "\n",
    "# Define transforms\n",
    "train_data_transforms = transforms.Compose([\n",
    "    transforms.RandomHorizontalFlip(),\n",
    "    transforms.RandomVerticalFlip(),\n",
    "    transforms.ToTensor(),\n",
    "    transforms.Normalize(color_mean, color_std)])\n",
    "\n",
    "test_data_transforms = transforms.Compose([\n",
    "    transforms.ToTensor(),\n",
    "    transforms.Normalize(color_std, color_std)])\n",
    "\n",
    "# Create training set and define training dataloader\n",
    "trainset = torchvision.datasets.CIFAR10(root = download_path, train = True, download = True,\n",
    "                                       transform = train_data_transforms)\n",
    "\n",
    "trainloader = torch.utils.data.DataLoader(trainset, batch_size = batch_size, shuffle = True)\n",
    "\n",
    "# Create test set and define test dataloader\n",
    "testset = torchvision.datasets.CIFAR10(root = download_path, train = False, download = True,\n",
    "                                      transform = test_data_transforms)\n",
    "\n",
    "testloader = torch.utils.data.DataLoader(testset, batch_size = batch_size, shuffle = False)\n",
    "\n",
    "# The 10 classes in the dataset\n",
    "classes = ('plane', 'car', 'bird', 'cat', 'deer', 'dog', 'frog', 'horse', 'ship', 'truck')"
   ]
  },
  {
   "cell_type": "markdown",
   "metadata": {},
   "source": [
    "## Explore the Dataset\n",
    "Using matplotlib, numpy, and torch, explore the dimensions of your data.\n",
    "\n",
    "You can view images using the `show5` function defined below – it takes a data loader as an argument.\n",
    "Remember that normalized images will look really weird to you! You may want to try changing your transforms to view images.\n",
    "Typically using no transforms other than `toTensor()` works well for viewing – but not as well for training your network.\n",
    "If `show5` doesn't work, go back and check your code for creating your data loaders and your training/test sets."
   ]
  },
  {
   "cell_type": "code",
   "execution_count": 3,
   "metadata": {},
   "outputs": [],
   "source": [
    "def show5(img_loader, image_mean = (0.5, 0.5, 0.5), image_std = (0.5, 0.5, 0.5)):\n",
    "    \n",
    "    dataiter = iter(img_loader)\n",
    "    batch = next(dataiter)\n",
    "    labels = batch[1][0:5]\n",
    "    images = batch[0][0:5]\n",
    "    \n",
    "    fig, ax = plt.subplots(1, 5, figsize=(10, 2))\n",
    "    \n",
    "    for i in range(5):\n",
    "        image = images[i].numpy()\n",
    "        image = np.rot90(image.T, k=3)\n",
    "        image = (image_std * image) + image_mean\n",
    "        #print(np.shape(image))\n",
    "        ax[i].imshow(image)\n",
    "        ax[i].set_title(classes[labels[i]])"
   ]
  },
  {
   "cell_type": "code",
   "execution_count": 4,
   "metadata": {},
   "outputs": [
    {
     "data": {
      "image/png": "[encoded data removed]",
      "text/plain": [
       "<Figure size 1000x200 with 5 Axes>"
      ]
     },
     "metadata": {},
     "output_type": "display_data"
    }
   ],
   "source": [
    "# Explore train data\n",
    "show5(trainloader)"
   ]
  },
  {
   "cell_type": "code",
   "execution_count": 5,
   "metadata": {},
   "outputs": [
    {
     "data": {
      "image/png": "[encoded data removed]",
      "text/plain": [
       "<Figure size 1000x200 with 5 Axes>"
      ]
     },
     "metadata": {},
     "output_type": "display_data"
    }
   ],
   "source": [
    "# Explore test data\n",
    "show5(testloader)"
   ]
  },
  {
   "cell_type": "markdown",
   "metadata": {},
   "source": [
    "## Build your Neural Network\n",
    "Using the layers in `torch.nn` (which has been imported as `nn`) and the `torch.nn.functional` module (imported as `F`), construct a neural network based on the parameters of the dataset. \n",
    "Feel free to construct a model of any architecture – feedforward, convolutional, or even something more advanced!"
   ]
  },
  {
   "cell_type": "code",
   "execution_count": 6,
   "metadata": {},
   "outputs": [],
   "source": [
    "class NeuralNetwork(nn.Module):\n",
    "    def __init__(self):\n",
    "        super().__init__()\n",
    "        self.conv1 = nn.Conv2d(3, 6, 5)\n",
    "        self.pool = nn.MaxPool2d(2, 2)\n",
    "        self.conv2 = nn.Conv2d(6, 16, 5)\n",
    "        self.fc1 = nn.Linear(16 * 5 * 5, 512)\n",
    "        self.fc2 = nn.Linear(512, 64)\n",
    "        self.fc3 = nn.Linear(64, 10)\n",
    "        \n",
    "        self.dropout = nn.Dropout(p=0.2)\n",
    "    \n",
    "    def forward(self, x):\n",
    "        x = self.pool(F.relu(self.conv1(x)))\n",
    "        x = self.pool(F.relu(self.conv2(x)))\n",
    "        \n",
    "        x = torch.flatten(x, 1)\n",
    "        \n",
    "        x = self.dropout(F.relu(self.fc1(x)))\n",
    "        x = self.dropout(F.relu(self.fc2(x)))\n",
    "        \n",
    "        x = F.log_softmax(self.fc3(x), dim=1)\n",
    "        return x\n",
    "\n",
    "nn_img_classifier = NeuralNetwork()"
   ]
  },
  {
   "cell_type": "markdown",
   "metadata": {},
   "source": [
    "Specify a loss function and an optimizer, and instantiate the model.\n",
    "\n",
    "If you use a less common loss function, please note why you chose that loss function in a comment."
   ]
  },
  {
   "cell_type": "code",
   "execution_count": 7,
   "metadata": {},
   "outputs": [],
   "source": [
    "criterion = nn.CrossEntropyLoss()\n",
    "optimizer = optim.Adam(nn_img_classifier.parameters(), lr = 0.001)"
   ]
  },
  {
   "cell_type": "markdown",
   "metadata": {},
   "source": [
    "## Running your Neural Network\n",
    "Use whatever method you like to train your neural network, and ensure you record the average loss at each epoch. \n",
    "Don't forget to use `torch.device()` and the `.to()` method for both your model and your data if you are using GPU!\n",
    "\n",
    "If you want to print your loss during each epoch, you can use the `enumerate` function and print the loss after a set number of batches. 250 batches works well for most people!\n",
    "\n",
    "## Testing your model\n",
    "Using the previously created `DataLoader` for the test set, compute the percentage of correct predictions using the highest probability prediction. \n",
    "\n",
    "If your accuracy is over 70%, great work! \n",
    "This is a hard task to exceed 70% on.\n",
    "\n",
    "If your accuracy is under 45%, you'll need to make improvements.\n",
    "Go back and check your model architecture, loss function, and optimizer to make sure they're appropriate for an image classification task."
   ]
  },
  {
   "cell_type": "code",
   "execution_count": 8,
   "metadata": {},
   "outputs": [
    {
     "name": "stdout",
     "output_type": "stream",
     "text": [
      "Using cpu device\n",
      "\n"
     ]
    }
   ],
   "source": [
    "# set number of epoches for neuralnetwork training\n",
    "epoches = 30\n",
    "# train loss data\n",
    "train_losses, test_losses = [], []\n",
    "# select GPU as processing unit if available\n",
    "device = 'cuda' if torch.cuda.is_available() else 'cpu'\n",
    "print('Using {} device\\n'.format(device))\n",
    "# move model to GPU or CPU\n",
    "nn_img_classifier.to(device);"
   ]
  },
  {
   "cell_type": "markdown",
   "metadata": {},
   "source": [
    "### Model training and validation"
   ]
  },
  {
   "cell_type": "code",
   "execution_count": null,
   "metadata": {
    "scrolled": false
   },
   "outputs": [
    {
     "name": "stdout",
     "output_type": "stream",
     "text": [
      "Epoch: 1/30; Training loss: 1.728; Test Loass: 1.481; Test Accuracy: 45.1 %\n",
      "Epoch: 2/30; Training loss: 1.510; Test Loass: 1.397; Test Accuracy: 49.6 %\n",
      "Epoch: 3/30; Training loss: 1.424; Test Loass: 1.318; Test Accuracy: 52.9 %\n",
      "Epoch: 4/30; Training loss: 1.362; Test Loass: 1.303; Test Accuracy: 53.5 %\n",
      "Epoch: 5/30; Training loss: 1.320; Test Loass: 1.256; Test Accuracy: 54.4 %\n",
      "Epoch: 6/30; Training loss: 1.293; Test Loass: 1.263; Test Accuracy: 54.9 %\n",
      "Epoch: 7/30; Training loss: 1.262; Test Loass: 1.218; Test Accuracy: 57.1 %\n",
      "Epoch: 8/30; Training loss: 1.245; Test Loass: 1.245; Test Accuracy: 56.1 %\n",
      "Epoch: 9/30; Training loss: 1.226; Test Loass: 1.186; Test Accuracy: 57.9 %\n",
      "Epoch: 10/30; Training loss: 1.203; Test Loass: 1.192; Test Accuracy: 57.6 %\n",
      "Epoch: 11/30; Training loss: 1.196; Test Loass: 1.172; Test Accuracy: 58.4 %\n",
      "Epoch: 12/30; Training loss: 1.176; Test Loass: 1.165; Test Accuracy: 59.1 %\n",
      "Epoch: 13/30; Training loss: 1.170; Test Loass: 1.180; Test Accuracy: 58.2 %\n",
      "Epoch: 14/30; Training loss: 1.157; Test Loass: 1.166; Test Accuracy: 59.0 %\n",
      "Epoch: 15/30; Training loss: 1.148; Test Loass: 1.142; Test Accuracy: 60.1 %\n",
      "Epoch: 16/30; Training loss: 1.143; Test Loass: 1.194; Test Accuracy: 58.0 %\n",
      "Epoch: 17/30; Training loss: 1.133; Test Loass: 1.164; Test Accuracy: 59.2 %\n",
      "Epoch: 18/30; Training loss: 1.124; Test Loass: 1.195; Test Accuracy: 58.4 %\n",
      "Epoch: 19/30; Training loss: 1.117; Test Loass: 1.126; Test Accuracy: 60.5 %\n",
      "Epoch: 20/30; Training loss: 1.105; Test Loass: 1.211; Test Accuracy: 57.6 %\n",
      "Epoch: 21/30; Training loss: 1.107; Test Loass: 1.116; Test Accuracy: 61.0 %\n",
      "Epoch: 22/30; Training loss: 1.096; Test Loass: 1.213; Test Accuracy: 57.3 %\n",
      "Epoch: 23/30; Training loss: 1.092; Test Loass: 1.111; Test Accuracy: 61.3 %\n",
      "Epoch: 24/30; Training loss: 1.093; Test Loass: 1.154; Test Accuracy: 59.9 %\n",
      "Epoch: 25/30; Training loss: 1.087; Test Loass: 1.149; Test Accuracy: 60.5 %\n",
      "Epoch: 26/30; Training loss: 1.076; Test Loass: 1.110; Test Accuracy: 61.6 %\n",
      "Epoch: 27/30; Training loss: 1.069; Test Loass: 1.107; Test Accuracy: 62.2 %\n",
      "Epoch: 28/30; Training loss: 1.070; Test Loass: 1.122; Test Accuracy: 61.2 %\n",
      "Epoch: 29/30; Training loss: 1.062; Test Loass: 1.112; Test Accuracy: 61.5 %\n"
     ]
    }
   ],
   "source": [
    "# train model for the number of epoches\n",
    "for epoch in range(epoches):\n",
    "    \n",
    "    running_loss = 0.0\n",
    "    \n",
    "    # training pass\n",
    "    for images, labels in trainloader:\n",
    "        \n",
    "        # move computations to CPU or GPU if available\n",
    "        images, labels = images.to(device), labels.to(device)\n",
    "        \n",
    "        # clear gradient\n",
    "        optimizer.zero_grad()\n",
    "        # compute nn output\n",
    "        pred = nn_img_classifier(images)\n",
    "        # get training loss\n",
    "        loss = criterion(pred, labels)\n",
    "        # compute gradient\n",
    "        loss.backward()\n",
    "        # convergence to the optimum\n",
    "        optimizer.step()\n",
    "        \n",
    "        # keep track of running loss\n",
    "        running_loss += loss.item()\n",
    "    \n",
    "    # validation pass\n",
    "    else:\n",
    "        test_loss = 0\n",
    "        accuracy = 0\n",
    "        \n",
    "        # pass forward on validation set\n",
    "        with torch.no_grad():\n",
    "            # set model to evaluation mode\n",
    "            nn_img_classifier.eval()\n",
    "            for images, labels in testloader:\n",
    "                \n",
    "                # move computations to CPU or GPU if available\n",
    "                images, labels = images.to(device), labels.to(device)\n",
    "                \n",
    "                # compute nn output\n",
    "                pred = nn_img_classifier(images)\n",
    "                # get testing loss\n",
    "                test_loss += criterion(pred, labels)\n",
    "                \n",
    "                probabilities = torch.exp(pred)\n",
    "                top_p, top_class = probabilities.topk(1, dim=1)\n",
    "                matches = top_class == labels.view(*top_class.shape)\n",
    "                accuracy += torch.mean(matches.type(torch.FloatTensor))\n",
    "            \n",
    "            # set model back to training mode \n",
    "            nn_img_classifier.train()\n",
    "\n",
    "        # save loss data\n",
    "        train_losses.append(running_loss/len(trainloader))\n",
    "        test_losses.append(test_loss/len(testloader))\n",
    "        \n",
    "        print('Epoch: {}/{};'.format(epoch + 1, epoches),\n",
    "              'Training loss: {:.3f};'.format(running_loss/len(trainloader)),\n",
    "              'Test Loass: {:.3f};'.format(test_loss/len(testloader)),\n",
    "              'Test Accuracy: {:.1f} %'.format((accuracy/len(testloader)) * 100))\n",
    "\n",
    "print('Training done!')"
   ]
  },
  {
   "cell_type": "markdown",
   "metadata": {},
   "source": [
    "Plot the training loss (and validation loss/accuracy, if recorded)."
   ]
  },
  {
   "cell_type": "code",
   "execution_count": null,
   "metadata": {},
   "outputs": [],
   "source": [
    "fig, ax = plt.subplots()\n",
    "ax.plot(train_losses, label='Training loss')\n",
    "ax.plot(test_losses, label = 'Testing loss')\n",
    "plt.title('Training and testing losses')\n",
    "plt.xlabel('Epoches')\n",
    "plt.ylabel('Cross-Entropy Loss')\n",
    "ax.legend()\n",
    "plt.show()"
   ]
  },
  {
   "cell_type": "markdown",
   "metadata": {},
   "source": [
    "### Inspect results"
   ]
  },
  {
   "cell_type": "code",
   "execution_count": null,
   "metadata": {},
   "outputs": [],
   "source": [
    "def show_image(img_loader,\n",
    "               image_mean = (0.5, 0.5, 0.5),\n",
    "               image_std = (0.5, 0.5, 0.5)):\n",
    "    \n",
    "    next_image = next(iter(img_loader))\n",
    "     \n",
    "    label = next_image[1][0]\n",
    "    tensor_image = next_image[0][0]\n",
    "    image = tensor_image.numpy()\n",
    "    \n",
    "    fig, ax = plt.subplots(1, figsize=(2, 2))\n",
    "    \n",
    "    image = np.rot90(image.T, k=3)\n",
    "    image = (image_std * image) + image_mean\n",
    "    label = classes[label]\n",
    "    ax.imshow(image)\n",
    "    ax.set_title(label)\n",
    "    return (label, tensor_image)"
   ]
  },
  {
   "cell_type": "code",
   "execution_count": null,
   "metadata": {},
   "outputs": [],
   "source": [
    "def predict_image_object(model, image):\n",
    "    # adjust tensor dimentions\n",
    "    image = torch.unsqueeze(image, 0)\n",
    "    with torch.no_grad():\n",
    "        # set model to evaluation mode\n",
    "        model.eval()\n",
    "        # move computation to CPU or GPU\n",
    "        image = image.to(device)\n",
    "        # compute nn output\n",
    "        pred = model(image)\n",
    "        # compute probabilities\n",
    "        probabilities = torch.exp(pred)\n",
    "    # compute top probabilities and classes \n",
    "    top_p, top_class = torch.topk(probabilities, k = 1)\n",
    "    return({'probability': float(top_p),\n",
    "            'class': int(top_class)})"
   ]
  },
  {
   "cell_type": "code",
   "execution_count": null,
   "metadata": {},
   "outputs": [],
   "source": [
    "test_image = show_image(trainloader)\n",
    "prob_class  = predict_image_object(nn_img_classifier, test_image[1])\n",
    "print('There is a {} in the picture with probability: {:.2f} %'\\\n",
    "      .format(classes[prob_class['class']], prob_class['probability']*100))\n",
    "#print(prob_class)"
   ]
  },
  {
   "cell_type": "markdown",
   "metadata": {},
   "source": [
    "## Saving your model\n",
    "Using `torch.save`, save your model for future loading."
   ]
  },
  {
   "cell_type": "code",
   "execution_count": null,
   "metadata": {},
   "outputs": [],
   "source": [
    "path = os.path.join(os.getcwd(), 'model.pth')\n",
    "torch.save(nn_img_classifier, path)\n",
    "print('Model saved under path: {}'.format(path))"
   ]
  },
  {
   "cell_type": "markdown",
   "metadata": {},
   "source": [
    "## Make a Recommendation\n",
    "\n",
    "Q: Based on your evaluation, what is your recommendation on whether to build or buy? Explain your reasoning below.\n",
    "\n",
    "A: To answer this question one would have to compare the cost of buying a trained model to the cost and time of developing one's own model. It seems that the purchase of a pre-trained model would be more beneficial. \n",
    "\n",
    "\n",
    "Some things to consider as you formulate your recommendation:\n",
    "\n",
    "Q: How does your model compare to Detectocorp's model?\n",
    "\n",
    "A: The model is not as good as Detectocorp. The accuracy of the model on the test set reaches 62% compared with the Detectocorp model which reaches an accuracy of 70%. \n",
    "\n",
    "Q: How does it compare to the far more advanced solutions in the literature?\n",
    "\n",
    "A: The model's performance is significantly lower than models known in the literature. The development of accurate classifiers has taken years and is further the object of research to improve them\n",
    "\n",
    "Q: What did you do to get the accuracy you achieved? \n",
    "\n",
    "A:\n",
    "* Applied various transformations on the training dataset\n",
    "* Training for 30 epoches\n",
    "* Two convolution layers were used in the model\n",
    "* Dropuot and softmax functions used in the classifier\n",
    "\n",
    "Q: Is it necessary to improve this accuracy? If so, what sort of work would be involved in improving it?\n",
    "\n",
    "A: Accuracy of 62% is currently not satisfactory compared to neural classifiers known in the literature. Improvements should be implemented:\n",
    "\n",
    "* Changing the architecture of the model\n",
    "* Transfer learning\n",
    "* Increasing the number training of epoches\n"
   ]
  },
  {
   "cell_type": "markdown",
   "metadata": {},
   "source": [
    "## Submit Your Project\n",
    "\n",
    "When you are finished editing the notebook and are ready to turn it in, simply click the **SUBMIT PROJECT** button in the lower right.\n",
    "\n",
    "Once you submit your project, we'll review your work and give you feedback if there's anything that you need to work on. If you'd like to see the exact points that your reviewer will check for when looking at your work, you can have a look over the project [rubric](https://review.udacity.com/#!/rubrics/3077/view)."
   ]
  }
 ],
 "metadata": {
  "kernelspec": {
   "display_name": "Python 3 (ipykernel)",
   "language": "python",
   "name": "python3"
  },
  "language_info": {
   "codemirror_mode": {
    "name": "ipython",
    "version": 3
   },
   "file_extension": ".py",
   "mimetype": "text/x-python",
   "name": "python",
   "nbconvert_exporter": "python",
   "pygments_lexer": "ipython3",
   "version": "3.9.13"
  }
 },
 "nbformat": 4,
 "nbformat_minor": 4
}
